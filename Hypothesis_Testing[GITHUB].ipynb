{
 "cells": [
  {
   "cell_type": "markdown",
   "metadata": {},
   "source": [
    "# Hypothesis Testing - examples\n",
    "\n",
    "<img src=\"image.jpeg\" width=\"500\">\n",
    "\n",
    "### Objective: To accept or reject the Null Hypothesis and give the final conclusion of each example\n"
   ]
  },
  {
   "cell_type": "markdown",
   "metadata": {},
   "source": [
    "# Importing libraries"
   ]
  },
  {
   "cell_type": "code",
   "execution_count": 4,
   "metadata": {},
   "outputs": [],
   "source": [
    "import statsmodels.api as sm\n",
    "import numpy as np\n",
    "import matplotlib.pyplot as plt\n",
    "import pandas as pd"
   ]
  },
  {
   "cell_type": "markdown",
   "metadata": {},
   "source": [
    "# Examples of Hypothesis Testing"
   ]
  },
  {
   "cell_type": "markdown",
   "metadata": {},
   "source": [
    "## _Population Proportion_\n",
    "\n",
    "In previous years, 67% of parents believed that electronics and social media was the cause of their teenager’s lack of sleep. \n",
    "\n",
    "<img src=\"image1.jpeg\" width=\"700\">\n"
   ]
  },
  {
   "cell_type": "markdown",
   "metadata": {},
   "source": [
    "#### Search Question: _Do more parents today believe that their teenager’s lack of sleep is caused due to electronics and social media?_\n",
    "\n",
    "#### Hypothesis Testing Details\n",
    "* Population: Parents with a teenager (age 13-18)  \n",
    "* Parameter of Interest: p  \n",
    "\n",
    "    * H0: p = 0.53 [Social media and electronics bother the kids sleeping process]\n",
    "    * H1 or Ha: p > 0.53 [Social media and electronics doesn't bother the kids sleeping process]\n",
    "    (note that this is a one-sided test)\n",
    "\n",
    "#### Data Information\n",
    "   * quantity: 2000 people were surveyed.\n",
    "   * 57% out of 100% believe that their teenager’s lack of sleep is caused due to electronics and social media."
   ]
  },
  {
   "cell_type": "code",
   "execution_count": 40,
   "metadata": {},
   "outputs": [],
   "source": [
    "# coding the hypothesis testing details\n",
    "n = 2000\n",
    "pnull = .53\n",
    "phat = .57"
   ]
  },
  {
   "cell_type": "code",
   "execution_count": 42,
   "metadata": {},
   "outputs": [],
   "source": [
    "# applying proportions_ztest from statsmodels that returns Z-statistic and p-value\n",
    "# larger means one-sided test\n",
    "a = sm.stats.proportions_ztest(phat * n, n, pnull, alternative='larger')"
   ]
  },
  {
   "cell_type": "code",
   "execution_count": 79,
   "metadata": {},
   "outputs": [
    {
     "name": "stdout",
     "output_type": "stream",
     "text": [
      " Z-statistc is around 0.2695\n",
      " p-value is around 0.787670\n",
      "\n",
      "Conclusion: Accept Null Hypothesis\n"
     ]
    }
   ],
   "source": [
    "print (f' Z-statistc is around {a[0]:.4f}')\n",
    "print (f' p-value is around {a[1]:.6f}')\n",
    "print()\n",
    "if a[1]<=0.05:\n",
    "    \n",
    "    print(\"Conclusion: Reject Null Hypothesis\")\n",
    "else:\n",
    "    print(\"Conclusion: Accept Null Hypothesis\")"
   ]
  },
  {
   "cell_type": "markdown",
   "metadata": {},
   "source": [
    "### Conclusion of the hypothesis test\n",
    "Since the p-value is very tiny if compared with p (parameter of interest), we can reject the Null hypothesis. Although, we do not accept the alternate hypothesis, this informally means that there is a good chance of this proportion being more than 53%."
   ]
  },
  {
   "cell_type": "code",
   "execution_count": null,
   "metadata": {},
   "outputs": [],
   "source": []
  },
  {
   "cell_type": "markdown",
   "metadata": {},
   "source": [
    "## _Difference in Population Proportions_\n",
    "In a random research, parents have been asked about their child has or hasn't had some swimming lessons at school.\n",
    "\n",
    "<img src=\"image2.jpeg\" width=\"700\">"
   ]
  },
  {
   "cell_type": "markdown",
   "metadata": {},
   "source": [
    "#### Research Question: _Is there a significant difference between the population proportions of parents of black children and parents of Hispanic children who report that their child has had some swimming lessons?_\n",
    "\n",
    "#### Hypothesis Testing Details\n",
    "- Populations: Parents of black children (age 6-18) and also parents of hispanic children (age 6-18)  \n",
    "- Parameter of Interest: p1 - p2, where p1 = black and p2 = hispanic  \n",
    "    * H0: p1 - p2 = 0  \n",
    "    * H1 or Ha: p1 - p2 $\\neq$ 0  \n",
    "\n",
    "#### Data Information\n",
    "- 250 parents of black children where 36.8% of them reports that their child has had some swimming lessons. \n",
    "- 350 parents of hispanic children where 38.9% of parents report that their child has had some swimming lessons."
   ]
  },
  {
   "cell_type": "code",
   "execution_count": 70,
   "metadata": {},
   "outputs": [],
   "source": [
    "# coding the hypothesis testing details\n",
    "n1 = 250\n",
    "p1 = .368\n",
    "\n",
    "n2 = 350\n",
    "p2 = .389\n",
    "\n",
    "population1 = np.random.binomial(1, p1, n1)\n",
    "population2 = np.random.binomial(1, p2, n2)"
   ]
  },
  {
   "cell_type": "code",
   "execution_count": 72,
   "metadata": {},
   "outputs": [],
   "source": [
    "# applying ttest_ind from statsmodels that returns test-statistic. p-value and degrees of freedom\n",
    "# larger means one-sided test\n",
    "a = sm.stats.ttest_ind(population1, population2)"
   ]
  },
  {
   "cell_type": "code",
   "execution_count": 78,
   "metadata": {},
   "outputs": [
    {
     "name": "stdout",
     "output_type": "stream",
     "text": [
      " test-statistc = 0.2695\n",
      " p-value = 0.7877\n",
      " degrees of freedom = 598.0\n",
      "\n",
      "Conclusion: Accept Null Hypothesis\n"
     ]
    }
   ],
   "source": [
    "print (f' test-statistc = {a[0]:.4f}')\n",
    "print (f' p-value = {a[1]:.4f}')\n",
    "print (f' degrees of freedom = {a[2]:.1f}')\n",
    "\n",
    "print()\n",
    "if a[1]<=0.05:\n",
    "    \n",
    "    print(\"Conclusion: Reject Null Hypothesis\")\n",
    "else:\n",
    "    print(\"Conclusion: Accept Null Hypothesis\")"
   ]
  },
  {
   "cell_type": "markdown",
   "metadata": {},
   "source": [
    "### Conclusion of the hypothesis test\n",
    "Since the p-value is quite high ~0.7877, we taken on the Null hypothesis in this case i.e. the difference in the population proportions are not statistically significant."
   ]
  },
  {
   "cell_type": "code",
   "execution_count": null,
   "metadata": {},
   "outputs": [],
   "source": []
  },
  {
   "cell_type": "markdown",
   "metadata": {},
   "source": [
    "## _One Population Mean_\n",
    "\n",
    "Physical Competition among adults and its results to measure one population mean\n",
    "<img src=\"image3.jpeg\" width=\"700\">"
   ]
  },
  {
   "cell_type": "markdown",
   "metadata": {},
   "source": [
    "### Research Question: _Is the average cartwheel distance (in inches) for adults more than 80 inches?_\n",
    "\n",
    "### Hypothesis Testing:\n",
    "- Population: All adults  \n",
    "- Parameter of Interest: $\\mu$, population mean cartwheel distance.\n",
    "    * H0: $\\mu$ = 80 \n",
    "    * H1 ou Ha: $\\mu$ > 80\n",
    "\n",
    "### Data information:\n",
    "<br>25 adult participants. \n",
    "<br>$\\mu = 83.84$\n",
    "<br>$\\sigma = 10.72$"
   ]
  },
  {
   "cell_type": "code",
   "execution_count": 91,
   "metadata": {},
   "outputs": [
    {
     "name": "stdout",
     "output_type": "stream",
     "text": [
      " adult participants = 25.0\n",
      " mean = 83.84\n",
      " standard-deviatio = 10.72\n"
     ]
    }
   ],
   "source": [
    "# coding the hypothesis testing details\n",
    "data = np.array([80.57, 98.96, 85.28, 83.83, 69.94, 89.59, 91.09, 66.25, 91.21, 82.7 , 73.54, 81.99, 54.01, \n",
    "                 82.89, 75.88, 98.32, 107.2 , 85.53, 79.08, 84.3 , 89.32, 86.35, 78.98, 92.26, 87.01])\n",
    "n = len(data)\n",
    "mean = data.mean()\n",
    "sd = data.std()\n",
    "\n",
    "print (f' adult participants = {n:.1f}')\n",
    "print (f' mean = {mean:.2f}')\n",
    "print (f' standard-deviatio = {sd:.2f}')\n"
   ]
  },
  {
   "cell_type": "code",
   "execution_count": 93,
   "metadata": {},
   "outputs": [],
   "source": [
    "# applying proportions_ztest from statsmodels that returns Z-statistic and p-value\n",
    "# larger means one-sided test\n",
    "a = sm.stats.ztest(data, value = 80, alternative = \"larger\")"
   ]
  },
  {
   "cell_type": "code",
   "execution_count": 94,
   "metadata": {},
   "outputs": [
    {
     "name": "stdout",
     "output_type": "stream",
     "text": [
      " Z-statistc is around 1.7570\n",
      " p-value is around 0.039461\n",
      "\n",
      "Conclusion: Reject Null Hypothesis\n"
     ]
    }
   ],
   "source": [
    "print (f' Z-statistc is around {a[0]:.4f}')\n",
    "print (f' p-value is around {a[1]:.6f}')\n",
    "print()\n",
    "if a[1]<=0.05:\n",
    "    \n",
    "    print(\"Conclusion: Reject Null Hypothesis\")\n",
    "else:\n",
    "    print(\"Conclusion: Accept Null Hypothesis\")"
   ]
  },
  {
   "cell_type": "markdown",
   "metadata": {},
   "source": [
    "### Conclusion of the hypothesis test\n",
    "Since the p-value  (0.0394) is lower than the standard confidence level (0.05), we can reject the Null hypothesis (the mean cartwheel distance for adults is equal to 80 inches). Therefore, there's a strong evidence in support for the alternatine hypothesis that the mean cartwheel distance is, in fact, higher than 80 inches."
   ]
  },
  {
   "cell_type": "code",
   "execution_count": null,
   "metadata": {},
   "outputs": [],
   "source": []
  }
 ],
 "metadata": {
  "kernelspec": {
   "display_name": "Python 3",
   "language": "python",
   "name": "python3"
  },
  "language_info": {
   "codemirror_mode": {
    "name": "ipython",
    "version": 3
   },
   "file_extension": ".py",
   "mimetype": "text/x-python",
   "name": "python",
   "nbconvert_exporter": "python",
   "pygments_lexer": "ipython3",
   "version": "3.7.1"
  }
 },
 "nbformat": 4,
 "nbformat_minor": 4
}
